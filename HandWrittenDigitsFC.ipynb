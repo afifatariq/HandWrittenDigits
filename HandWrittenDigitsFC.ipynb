{
  "nbformat": 4,
  "nbformat_minor": 0,
  "metadata": {
    "colab": {
      "name": "HandWrittenDigitsFC.ipynb",
      "provenance": [],
      "collapsed_sections": []
    },
    "kernelspec": {
      "name": "python3",
      "display_name": "Python 3"
    },
    "accelerator": "GPU"
  },
  "cells": [
    {
      "cell_type": "markdown",
      "metadata": {
        "id": "oJMB4h7M3o1h"
      },
      "source": [
        "By Afifa Tariq"
      ]
    },
    {
      "cell_type": "markdown",
      "metadata": {
        "id": "6BH5ZDcK0tou"
      },
      "source": [
        "Import Libraries\n"
      ]
    },
    {
      "cell_type": "code",
      "metadata": {
        "id": "NXkhmXju-xx4"
      },
      "source": [
        "import numpy as np\n",
        "import torch\n",
        "import torchvision\n",
        "from time import time\n",
        "from torchvision import datasets, transforms\n",
        "from torch import nn, optim\n",
        "import json\n",
        "import shutil\n",
        "import torchvision.datasets as dset\n",
        "import matplotlib.pyplot as plt\n",
        "from google.colab import files\n",
        "from skimage.transform import resize\n",
        "from skimage.util import crop\n",
        "from skimage.color import rgb2gray\n",
        "from skimage.util import pad\n",
        "from skimage import io\n",
        "import cv2\n",
        "from skimage.feature import hog"
      ],
      "execution_count": null,
      "outputs": []
    },
    {
      "cell_type": "markdown",
      "metadata": {
        "id": "Zi-KapJd0ysR"
      },
      "source": [
        "Download and Extract dataset from Kaggle\n"
      ]
    },
    {
      "cell_type": "code",
      "metadata": {
        "id": "K4g94e46ICTG",
        "colab": {
          "base_uri": "https://localhost:8080/",
          "height": 457
        },
        "outputId": "1c79a2cf-7289-481d-8a41-1b63f6bd69d8"
      },
      "source": [
        "!mkdir .kaggle\n",
        "\n",
        "token = {\"username\":\"\",\"key\":\"\"}\n",
        "with open('/content/.kaggle/kaggle.json', 'w') as file:\n",
        "    json.dump(token, file)\n",
        "!kaggle config set -n path -v{/content}\n",
        "!cp /content/.kaggle/kaggle.json ~/.kaggle/kaggle.json\n",
        "!kaggle config set -n path -v{/content}\n",
        "!chmod 600 /root/.kaggle/kaggle.json\n",
        "\n",
        "!kaggle datasets download -d xainano/handwrittenmathsymbols -p /content  \n",
        "!unzip \\*.zip\n",
        "get_ipython().system_raw(\"unrar x data\")\n",
        "!ls extracted_images"
      ],
      "execution_count": null,
      "outputs": [
        {
          "output_type": "stream",
          "text": [
            "Traceback (most recent call last):\n",
            "  File \"/usr/local/bin/kaggle\", line 5, in <module>\n",
            "    from kaggle.cli import main\n",
            "  File \"/usr/local/lib/python2.7/dist-packages/kaggle/__init__.py\", line 23, in <module>\n",
            "    api.authenticate()\n",
            "  File \"/usr/local/lib/python2.7/dist-packages/kaggle/api/kaggle_api_extended.py\", line 146, in authenticate\n",
            "    self.config_file, self.config_dir))\n",
            "IOError: Could not find kaggle.json. Make sure it's located in /root/.kaggle. Or use the environment method.\n",
            "Warning: Your Kaggle API key is readable by other users on this system! To fix this, you can run 'chmod 600 /root/.kaggle/kaggle.json'\n",
            "- path is now set to: {/content}\n",
            "Downloading handwrittenmathsymbols.zip to /content\n",
            " 97% 253M/262M [00:03<00:00, 79.6MB/s]\n",
            "100% 262M/262M [00:03<00:00, 76.5MB/s]\n",
            "Archive:  handwrittenmathsymbols.zip\n",
            "  inflating: data.rar                \n",
            "'='   +   9\t      div\t      H        leq   phi\t  sqrt\t  y\n",
            " -    0   A\t      e\t\t      i        lim   pi\t\t  sum\t  z\n",
            " ,    1   alpha       exists\t      in       log   pm\t\t  T\n",
            "'!'   2   ascii_124   f\t\t      infty    lt    prime\t  tan\n",
            "'('   3   b\t      forall\t      int      M     q\t\t  theta\n",
            "')'   4   beta\t      forward_slash   j        mu    R\t\t  times\n",
            "'['   5   C\t      G\t\t      k        N     rightarrow   u\n",
            " ]    6   cos\t      gamma\t      l        neq   S\t\t  v\n",
            "'{'   7   d\t      geq\t      lambda   o     sigma\t  w\n",
            "'}'   8   Delta       gt\t      ldots    p     sin\t  X\n"
          ],
          "name": "stdout"
        }
      ]
    },
    {
      "cell_type": "markdown",
      "metadata": {
        "id": "ANTbtkEO1BQH"
      },
      "source": [
        "Delete the extra folders from the dataset\n"
      ]
    },
    {
      "cell_type": "code",
      "metadata": {
        "id": "DaxTbCu9PF6p",
        "colab": {
          "base_uri": "https://localhost:8080/",
          "height": 52
        },
        "outputId": "b4265a3a-94c9-40ff-82b1-82b722bdba68"
      },
      "source": [
        "try:\n",
        "    shutil.rmtree('extracted_images/A')\n",
        "    shutil.rmtree('extracted_images/alpha')\n",
        "    shutil.rmtree('extracted_images/ascii_124')\n",
        "    shutil.rmtree('extracted_images/b')\n",
        "    shutil.rmtree('extracted_images/beta')\n",
        "    shutil.rmtree('extracted_images/C')\n",
        "    shutil.rmtree('extracted_images/cos')\n",
        "    shutil.rmtree('extracted_images/d')\n",
        "    shutil.rmtree('extracted_images/Delta')\n",
        "\n",
        "    shutil.rmtree('extracted_images/e')\n",
        "    shutil.rmtree('extracted_images/exists')\n",
        "    shutil.rmtree('extracted_images/f')\n",
        "    shutil.rmtree('extracted_images/forall')\n",
        "    shutil.rmtree('extracted_images/G')\n",
        "    shutil.rmtree('extracted_images/gamma')\n",
        "    shutil.rmtree('extracted_images/geq')\n",
        "    shutil.rmtree('extracted_images/gt')\n",
        "\n",
        "    shutil.rmtree('extracted_images/H')\n",
        "    shutil.rmtree('extracted_images/i')\n",
        "    shutil.rmtree('extracted_images/in')\n",
        "    shutil.rmtree('extracted_images/infty')\n",
        "    shutil.rmtree('extracted_images/int')\n",
        "    shutil.rmtree('extracted_images/j')\n",
        "    shutil.rmtree('extracted_images/k')\n",
        "    shutil.rmtree('extracted_images/l')\n",
        "    shutil.rmtree('extracted_images/lambda')\n",
        "    shutil.rmtree('extracted_images/ldots')\n",
        "\n",
        "    shutil.rmtree('extracted_images/leq')\n",
        "    shutil.rmtree('extracted_images/lim')\n",
        "    shutil.rmtree('extracted_images/log')\n",
        "    shutil.rmtree('extracted_images/lt')\n",
        "    shutil.rmtree('extracted_images/M')\n",
        "    shutil.rmtree('extracted_images/mu')\n",
        "    shutil.rmtree('extracted_images/N')\n",
        "    shutil.rmtree('extracted_images/neq')\n",
        "    shutil.rmtree('extracted_images/o')\n",
        "    shutil.rmtree('extracted_images/p')\n",
        "\n",
        "    shutil.rmtree('extracted_images/pi')\n",
        "    \n",
        "    shutil.rmtree('extracted_images/phi')\n",
        "    shutil.rmtree('extracted_images/tan')\n",
        "    shutil.rmtree('extracted_images/theta')\n",
        "    shutil.rmtree('extracted_images/sqrt')\n",
        "    shutil.rmtree('extracted_images/sin')\n",
        "    shutil.rmtree('extracted_images/T')\n",
        "    shutil.rmtree('extracted_images/sigma')\n",
        "    shutil.rmtree('extracted_images/S')\n",
        "    shutil.rmtree('extracted_images/rightarrow')\n",
        "    shutil.rmtree('extracted_images/q')\n",
        "    shutil.rmtree('extracted_images/R')\n",
        "    shutil.rmtree('extracted_images/prime')\n",
        "    shutil.rmtree('extracted_images/pm')\n",
        "    shutil.rmtree('extracted_images/u')\n",
        "    shutil.rmtree('extracted_images/v')\n",
        "    shutil.rmtree('extracted_images/w')\n",
        "    shutil.rmtree('extracted_images/X')\n",
        "    shutil.rmtree('extracted_images/y')\n",
        "    shutil.rmtree('extracted_images/z')\n",
        "except OSError as e:\n",
        "    print (\"Error: %s - %s.\" % (e.filename, e.strerror))\n",
        "  \n",
        "!ls extracted_images/"
      ],
      "execution_count": null,
      "outputs": [
        {
          "output_type": "stream",
          "text": [
            "'='   ,   '('  '['  '{'   +   1   3   5   7   9     forward_slash   times\n",
            " -   '!'  ')'   ]   '}'   0   2   4   6   8   div   sum\n"
          ],
          "name": "stdout"
        }
      ]
    },
    {
      "cell_type": "markdown",
      "metadata": {
        "id": "zeZU9Ugw1G3f"
      },
      "source": [
        "Install split folders library to divide the data into training and test set"
      ]
    },
    {
      "cell_type": "code",
      "metadata": {
        "id": "RwoX4Lw_SmfK",
        "colab": {
          "base_uri": "https://localhost:8080/",
          "height": 125
        },
        "outputId": "7aaa25c1-4ca3-4734-9dca-998827606052"
      },
      "source": [
        "!pip install split_folders    # Library to split Train and valid Image sets in ImageNet style\n",
        "import split_folders\n",
        "split_folders.ratio('extracted_images', output=\"final_output_images\", ratio=(.8, .2)) # default va"
      ],
      "execution_count": null,
      "outputs": [
        {
          "output_type": "stream",
          "text": [
            "Collecting split_folders\n",
            "  Downloading https://files.pythonhosted.org/packages/20/67/29dda743e6d23ac1ea3d16704d8bbb48d65faf3f1b1eaf53153b3da56c56/split_folders-0.3.1-py3-none-any.whl\n",
            "Installing collected packages: split-folders\n",
            "Successfully installed split-folders-0.3.1\n"
          ],
          "name": "stdout"
        },
        {
          "output_type": "stream",
          "text": [
            "Copying files: 207643 files [00:39, 5229.83 files/s]\n"
          ],
          "name": "stderr"
        }
      ]
    },
    {
      "cell_type": "markdown",
      "metadata": {
        "id": "JfCM6Qde1ROa"
      },
      "source": [
        "Apply transformations to the images and then add to a data loader"
      ]
    },
    {
      "cell_type": "code",
      "metadata": {
        "id": "DsjZyg5uqv8b",
        "colab": {
          "base_uri": "https://localhost:8080/",
          "height": 52
        },
        "outputId": "573fa70c-dbed-4f5d-aecc-9cb3c63c2a72"
      },
      "source": [
        "datarootTrain = 'final_output_images/train'\n",
        "datarootVal = 'final_output_images/val'\n",
        "image_size = 28\n",
        "\n",
        "trainset = dset.ImageFolder(root=datarootTrain,\n",
        "                           transform=transforms.Compose([\n",
        "                               transforms.Resize(image_size),\n",
        "                               transforms.Grayscale(num_output_channels=1),\n",
        "                               transforms.CenterCrop(image_size),\n",
        "                               transforms.ToTensor(),\n",
        "                               transforms.Normalize((0.5,), (0.5,)),\n",
        "                           ]))\n",
        "\n",
        "valset = dset.ImageFolder(root=datarootVal,\n",
        "                           transform=transforms.Compose([\n",
        "                               transforms.Resize(image_size),\n",
        "                               transforms.Grayscale(num_output_channels=1),\n",
        "                               transforms.CenterCrop(image_size),\n",
        "                               transforms.ToTensor(),\n",
        "                               transforms.Normalize((0.5,), (0.5,)),\n",
        "                           ]))\n",
        "\n",
        "trainloader = torch.utils.data.DataLoader(trainset, batch_size=64, shuffle=True)\n",
        "valloader = torch.utils.data.DataLoader(valset, batch_size=64, shuffle=True)\n",
        "\n",
        "dataiter = iter(trainloader)\n",
        "images, labels = dataiter.next()\n",
        "\n",
        "print(images.shape)\n",
        "print(labels.shape)"
      ],
      "execution_count": null,
      "outputs": [
        {
          "output_type": "stream",
          "text": [
            "torch.Size([64, 1, 28, 28])\n",
            "torch.Size([64])\n"
          ],
          "name": "stdout"
        }
      ]
    },
    {
      "cell_type": "markdown",
      "metadata": {
        "id": "rckxszZI1j-V"
      },
      "source": [
        "Plot some of the images from the dataset"
      ]
    },
    {
      "cell_type": "code",
      "metadata": {
        "id": "muM6G-Om-p7W",
        "colab": {
          "base_uri": "https://localhost:8080/",
          "height": 246
        },
        "outputId": "2b5d9c36-3090-444e-b4c5-b74fa51ef724"
      },
      "source": [
        "figure = plt.figure()\n",
        "num_of_images = 60\n",
        "for index in range(1, num_of_images + 1):\n",
        "    plt.subplot(6, 10, index)\n",
        "    plt.axis('off')\n",
        "    plt.imshow(images[index].numpy().squeeze(), cmap='gray_r')"
      ],
      "execution_count": null,
      "outputs": [
        {
          "output_type": "display_data",
          "data": {
            "image/png": "[encoded data removed]",
            "text/plain": [
              "<Figure size 432x288 with 60 Axes>"
            ]
          },
          "metadata": {
            "tags": []
          }
        }
      ]
    },
    {
      "cell_type": "markdown",
      "metadata": {
        "id": "KveYCQfm1vgG"
      },
      "source": [
        "Define Network model"
      ]
    },
    {
      "cell_type": "code",
      "metadata": {
        "id": "WpLkYbhgiR8F",
        "colab": {
          "base_uri": "https://localhost:8080/",
          "height": 158
        },
        "outputId": "6cee525d-d86b-492e-bca5-2b4bd7dbbd06"
      },
      "source": [
        "input_size = 784\n",
        "hidden_sizes = [128, 64]\n",
        "output_size = 25\n",
        "\n",
        "model = nn.Sequential(nn.Linear(input_size, hidden_sizes[0]),\n",
        "                      nn.ReLU(),\n",
        "                      nn.Linear(hidden_sizes[0], hidden_sizes[1]),\n",
        "                      nn.ReLU(),\n",
        "                      nn.Linear(hidden_sizes[1], output_size),\n",
        "                      nn.LogSoftmax(dim=1))\n",
        "print(model)"
      ],
      "execution_count": null,
      "outputs": [
        {
          "output_type": "stream",
          "text": [
            "Sequential(\n",
            "  (0): Linear(in_features=784, out_features=128, bias=True)\n",
            "  (1): ReLU()\n",
            "  (2): Linear(in_features=128, out_features=64, bias=True)\n",
            "  (3): ReLU()\n",
            "  (4): Linear(in_features=64, out_features=25, bias=True)\n",
            "  (5): LogSoftmax()\n",
            ")\n"
          ],
          "name": "stdout"
        }
      ]
    },
    {
      "cell_type": "markdown",
      "metadata": {
        "id": "hEoac6Eu12ix"
      },
      "source": [
        "Define loss function"
      ]
    },
    {
      "cell_type": "code",
      "metadata": {
        "id": "XfJZpxku2rGn"
      },
      "source": [
        "criterion = nn.NLLLoss()\n",
        "images, labels = next(iter(trainloader))\n",
        "images = images.view(images.shape[0], -1)\n",
        "\n",
        "logps = model(images) #log probabilities\n",
        "loss = criterion(logps, labels) #calculate the NLL loss"
      ],
      "execution_count": null,
      "outputs": []
    },
    {
      "cell_type": "code",
      "metadata": {
        "id": "Xq_NX9dc25jL",
        "colab": {
          "base_uri": "https://localhost:8080/",
          "height": 299
        },
        "outputId": "ce599f19-3c5c-46b1-ee5d-2fc07821244d"
      },
      "source": [
        "print('Before backward pass: \\n', model[0].weight.grad)\n",
        "loss.backward()\n",
        "print('After backward pass: \\n', model[0].weight.grad)"
      ],
      "execution_count": null,
      "outputs": [
        {
          "output_type": "stream",
          "text": [
            "Before backward pass: \n",
            " None\n",
            "After backward pass: \n",
            " tensor([[ 0.0000e+00,  0.0000e+00,  0.0000e+00,  ...,  0.0000e+00,\n",
            "          0.0000e+00,  0.0000e+00],\n",
            "        [ 0.0000e+00,  0.0000e+00,  0.0000e+00,  ...,  0.0000e+00,\n",
            "          0.0000e+00,  0.0000e+00],\n",
            "        [-3.9941e-04, -3.9941e-04, -3.9941e-04,  ..., -3.9941e-04,\n",
            "         -3.9941e-04, -3.9941e-04],\n",
            "        ...,\n",
            "        [-2.4809e-05, -2.7514e-05, -2.4809e-05,  ..., -2.7514e-05,\n",
            "         -2.7514e-05, -2.7514e-05],\n",
            "        [-5.1169e-03, -5.1191e-03, -5.1142e-03,  ..., -5.7786e-03,\n",
            "         -5.6301e-03, -5.3296e-03],\n",
            "        [ 3.6836e-04,  2.6107e-04,  3.2981e-04,  ...,  1.3636e-04,\n",
            "          1.6042e-04,  3.2753e-04]])\n"
          ],
          "name": "stdout"
        }
      ]
    },
    {
      "cell_type": "markdown",
      "metadata": {
        "id": "28PJUdEp17w4"
      },
      "source": [
        "## Training"
      ]
    },
    {
      "cell_type": "code",
      "metadata": {
        "id": "nafYqk053oij",
        "colab": {
          "base_uri": "https://localhost:8080/",
          "height": 316
        },
        "outputId": "b435c542-b270-4289-a59b-92298d757bef"
      },
      "source": [
        "optimizer = optim.SGD(model.parameters(), lr=0.003, momentum=0.9)\n",
        "time0 = time()\n",
        "losses = []\n",
        "epochs = 15\n",
        "for e in range(epochs):\n",
        "    running_loss = 0\n",
        "    for images, labels in trainloader:\n",
        "        # Flatten MNIST images into a 784 long vector\n",
        "        images = images.view(images.shape[0], -1)\n",
        "    \n",
        "        # Training pass\n",
        "        optimizer.zero_grad()\n",
        "        \n",
        "        output = model(images)\n",
        "        loss = criterion(output, labels)\n",
        "        \n",
        "        #This is where the model learns by backpropagating\n",
        "        loss.backward()\n",
        "        \n",
        "        #And optimizes its weights here\n",
        "        optimizer.step()\n",
        "        \n",
        "        running_loss += loss.item()\n",
        "\n",
        "        # Save Losses for plotting later\n",
        "        losses.append(running_loss/len(trainloader))\n",
        "    else:\n",
        "        print(\"Epoch {} - Training loss: {}\".format(e, running_loss/len(trainloader)))\n",
        "print(\"\\nTraining Time (in minutes) =\",(time()-time0)/60)"
      ],
      "execution_count": null,
      "outputs": [
        {
          "output_type": "stream",
          "text": [
            "Epoch 0 - Training loss: 1.2382554520489806\n",
            "Epoch 1 - Training loss: 0.4873535946120604\n",
            "Epoch 2 - Training loss: 0.35678625765768884\n",
            "Epoch 3 - Training loss: 0.29166257163460935\n",
            "Epoch 4 - Training loss: 0.2522386996927908\n",
            "Epoch 5 - Training loss: 0.22521787385337158\n",
            "Epoch 6 - Training loss: 0.20394018680884723\n",
            "Epoch 7 - Training loss: 0.1887702710814602\n",
            "Epoch 8 - Training loss: 0.17280320517032857\n",
            "Epoch 9 - Training loss: 0.16197017218217322\n",
            "Epoch 10 - Training loss: 0.15086917944061634\n",
            "Epoch 11 - Training loss: 0.14362579099733513\n",
            "Epoch 12 - Training loss: 0.13523148364231036\n",
            "Epoch 13 - Training loss: 0.1275022552199432\n",
            "Epoch 14 - Training loss: 0.12319076807885351\n",
            "\n",
            "Training Time (in minutes) = 20.316824471950532\n"
          ],
          "name": "stdout"
        }
      ]
    },
    {
      "cell_type": "markdown",
      "metadata": {
        "id": "ft3opZPq2Ara"
      },
      "source": [
        "Plot Loss curve"
      ]
    },
    {
      "cell_type": "code",
      "metadata": {
        "id": "Lxlv01_dY3zH",
        "colab": {
          "base_uri": "https://localhost:8080/",
          "height": 350
        },
        "outputId": "373cb107-7fac-4118-f6a6-9b6db2ebcca2"
      },
      "source": [
        "plt.figure(figsize=(10,5))\n",
        "plt.title(\"Loss During Training\")\n",
        "plt.plot(losses)\n",
        "plt.xlabel(\"iterations\")\n",
        "plt.ylabel(\"Loss\")\n",
        "plt.show()"
      ],
      "execution_count": null,
      "outputs": [
        {
          "output_type": "display_data",
          "data": {
            "image/png": "[encoded data removed]",
            "text/plain": [
              "<Figure size 720x360 with 1 Axes>"
            ]
          },
          "metadata": {
            "tags": []
          }
        }
      ]
    },
    {
      "cell_type": "markdown",
      "metadata": {
        "id": "gwpaqWc_2Ohn"
      },
      "source": [
        "Create funtion to view the image and predicted result"
      ]
    },
    {
      "cell_type": "code",
      "metadata": {
        "id": "ho5bOXut6MnO"
      },
      "source": [
        "def view_classify(img, ps):\n",
        "    ''' Function for viewing an image and it's predicted classes.\n",
        "    '''\n",
        "    ps = ps.cpu().data.numpy().squeeze()\n",
        "\n",
        "    fig, (ax1, ax2) = plt.subplots(figsize=(6,9), ncols=2)\n",
        "    ax1.imshow(img.resize_(1, 28, 28).numpy().squeeze())\n",
        "    ax1.axis('off')\n",
        "    ax2.barh(np.arange(25), ps)\n",
        "    ax2.set_aspect(0.1)\n",
        "    ax2.set_yticks(np.arange(25))\n",
        "    ax2.set_yticklabels(np.arange(25))\n",
        "    ax2.set_title('Class Probability')\n",
        "    ax2.set_xlim(0, 1.1)\n",
        "    plt.tight_layout()"
      ],
      "execution_count": null,
      "outputs": []
    },
    {
      "cell_type": "markdown",
      "metadata": {
        "id": "n-66JOOj2dXS"
      },
      "source": [
        "Predict digit for one example from test set"
      ]
    },
    {
      "cell_type": "code",
      "metadata": {
        "id": "tFF3NA-T5jUS",
        "colab": {
          "base_uri": "https://localhost:8080/",
          "height": 623
        },
        "outputId": "ef9175d7-487d-4d7e-df21-c4e15fd5e57c"
      },
      "source": [
        "images, labels = next(iter(valloader))\n",
        "print(images[0].shape)\n",
        "img = images[0].view(1, 784)\n",
        "print(img.shape)\n",
        "with torch.no_grad():\n",
        "    logps = model(img)\n",
        "\n",
        "ps = torch.exp(logps)\n",
        "probab = list(ps.numpy()[0])\n",
        "print(\"Predicted Digit =\", probab.index(max(probab)))\n",
        "view_classify(img.view(1, 28, 28), ps)\n",
        "\n",
        "pred_label = probab.index(max(probab))\n",
        "true_label = labels.numpy()[0]"
      ],
      "execution_count": null,
      "outputs": [
        {
          "output_type": "stream",
          "text": [
            "torch.Size([1, 28, 28])\n",
            "torch.Size([1, 784])\n",
            "Predicted Digit = 5\n",
            "5\n",
            "5\n"
          ],
          "name": "stdout"
        },
        {
          "output_type": "display_data",
          "data": {
            "image/png": "[encoded data removed]",
            "text/plain": [
              "<Figure size 432x648 with 2 Axes>"
            ]
          },
          "metadata": {
            "tags": []
          }
        }
      ]
    },
    {
      "cell_type": "markdown",
      "metadata": {
        "id": "u9_RA3Ya2ntR"
      },
      "source": [
        "Check predicted and true value for all test images to calculate accuracy."
      ]
    },
    {
      "cell_type": "code",
      "metadata": {
        "id": "xv3wo7uc6X8A",
        "colab": {
          "base_uri": "https://localhost:8080/",
          "height": 70
        },
        "outputId": "327e30d9-25b5-4a92-cb45-dbab511497d4"
      },
      "source": [
        "correct_count, all_count = 0, 0\n",
        "for images,labels in valloader:\n",
        "  for i in range(len(labels)):\n",
        "    img = images[i].view(1, 784)\n",
        "    with torch.no_grad():\n",
        "        logps = model(img)\n",
        "\n",
        "    \n",
        "    ps = torch.exp(logps)\n",
        "    probab = list(ps.numpy()[0])\n",
        "    pred_label = probab.index(max(probab))\n",
        "    true_label = labels.numpy()[i]\n",
        "    if(true_label == pred_label):\n",
        "      correct_count += 1\n",
        "    all_count += 1\n",
        "\n",
        "print(\"Number Of Images Tested =\", all_count)\n",
        "print(\"\\nModel Accuracy =\", (correct_count/all_count))"
      ],
      "execution_count": null,
      "outputs": [
        {
          "output_type": "stream",
          "text": [
            "Number Of Images Tested = 41538\n",
            "\n",
            "Model Accuracy = 0.961769945591988\n"
          ],
          "name": "stdout"
        }
      ]
    },
    {
      "cell_type": "markdown",
      "metadata": {
        "id": "cSywqu942yAZ"
      },
      "source": [
        "Upload file to guess values in math equation"
      ]
    },
    {
      "cell_type": "code",
      "metadata": {
        "id": "LY4ArBcesGQt",
        "colab": {
          "resources": {
            "http://localhost:8080/nbextensions/google.colab/files.js": {
              "data": "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",
              "ok": true,
              "headers": [
                [
                  "content-type",
                  "application/javascript"
                ]
              ],
              "status": 200,
              "status_text": ""
            }
          },
          "base_uri": "https://localhost:8080/",
          "height": 93
        },
        "outputId": "03c3478f-ebff-49bc-9dc2-2e1d53ae6366"
      },
      "source": [
        "uploaded = files.upload()\n",
        "img_file = \"\"\n",
        "for fn in uploaded.keys():\n",
        "  img_file = fn\n",
        "  print(fn)\n",
        "  \n",
        "temp = io.imread(img_file)\n"
      ],
      "execution_count": null,
      "outputs": [
        {
          "output_type": "display_data",
          "data": {
            "text/html": [
              "\n",
              "     <input type=\"file\" id=\"files-97282246-abc4-4349-90dc-b87ea5371c7a\" name=\"files[]\" multiple disabled />\n",
              "     <output id=\"result-97282246-abc4-4349-90dc-b87ea5371c7a\">\n",
              "      Upload widget is only available when the cell has been executed in the\n",
              "      current browser session. Please rerun this cell to enable.\n",
              "      </output>\n",
              "      <script src=\"/nbextensions/google.colab/files.js\"></script> "
            ],
            "text/plain": [
              "<IPython.core.display.HTML object>"
            ]
          },
          "metadata": {
            "tags": []
          }
        },
        {
          "output_type": "stream",
          "text": [
            "Saving test1.png to test1.png\n",
            "test1.png\n"
          ],
          "name": "stdout"
        }
      ]
    },
    {
      "cell_type": "markdown",
      "metadata": {
        "id": "rjf6_80527Hk"
      },
      "source": [
        "Functions to detect the different digits and symbols in image."
      ]
    },
    {
      "cell_type": "code",
      "metadata": {
        "id": "ix4YdFWxtmCe",
        "colab": {
          "base_uri": "https://localhost:8080/",
          "height": 175
        },
        "outputId": "2327b287-cbdf-422c-cde3-d368276c75fb"
      },
      "source": [
        "def get_digits(contours, hierarchy):\n",
        "    hierarchy = hierarchy[0]\n",
        "    bounding_rectangles = [cv2.boundingRect(ctr) for ctr in contours]   \n",
        "    final_bounding_rectangles = []\n",
        "    #find the most common heirarchy level - that is where our digits's bounding boxes are\n",
        "    u, indices = np.unique(hierarchy[:,-1], return_inverse=True)\n",
        "    most_common_heirarchy = u[np.argmax(np.bincount(indices))]\n",
        "    \n",
        "    for r,hr in zip(bounding_rectangles, hierarchy):\n",
        "        x,y,w,h = r\n",
        "        if ((w*h)>250) and (10 <= w <= 200) and (10 <= h <= 200) and hr[3] == most_common_heirarchy: \n",
        "            final_bounding_rectangles.append(r)    \n",
        "\n",
        "    return final_bounding_rectangles\n",
        "\n",
        "def proc_user_img(img_file):\n",
        "    print('loading \"%s for digit recognition\" ...' % img_file)\n",
        "    im = cv2.imread(img_file)    \n",
        "    blank_image = np.zeros((im.shape[0],im.shape[1],3), np.uint8)\n",
        "    blank_image.fill(255)\n",
        "\n",
        "    imgray = cv2.cvtColor(im,cv2.COLOR_BGR2GRAY)\n",
        "    plt.imshow(imgray)\n",
        "    kernel = np.ones((5,5),np.uint8)\n",
        "    \n",
        "    ret,thresh = cv2.threshold(imgray,127,255,0)   \n",
        "    thresh = cv2.erode(thresh,kernel,iterations = 1)\n",
        "    thresh = cv2.dilate(thresh,kernel,iterations = 1)\n",
        "    thresh = cv2.erode(thresh,kernel,iterations = 1)\n",
        "    \n",
        "    contours,hierarchy = cv2.findContours(thresh, cv2.RETR_TREE, cv2.CHAIN_APPROX_SIMPLE)\n",
        "    \n",
        "    digits_rectangles = get_digits(contours,hierarchy)  #rectangles of bounding the digits in user image\n",
        "    for rect in digits_rectangles:\n",
        "        x,y,w,h = rect\n",
        "        cv2.rectangle(im,(x,y),(x+w,y+h),(0,255,0),2)\n",
        "\n",
        "    plt.imshow(im)\n",
        "    cv2.imwrite(\"original_overlay.png\",im) \n",
        "    cv2.imwrite(\"final_digits.png\",blank_image) \n",
        "    cv2.destroyAllWindows()  \n",
        "    \n",
        "    return digits_rectangles    \n",
        "    \n",
        "    \n",
        "digit_rectangles = proc_user_img(img_file)"
      ],
      "execution_count": null,
      "outputs": [
        {
          "output_type": "stream",
          "text": [
            "loading \"test1.png for digit recognition\" ...\n"
          ],
          "name": "stdout"
        },
        {
          "output_type": "display_data",
          "data": {
            "image/png": "[encoded data removed]",
            "text/plain": [
              "<Figure size 432x288 with 1 Axes>"
            ]
          },
          "metadata": {
            "tags": []
          }
        }
      ]
    },
    {
      "cell_type": "markdown",
      "metadata": {
        "id": "icdpSS_I3TOj"
      },
      "source": [
        "For each rectangle predict digit"
      ]
    },
    {
      "cell_type": "code",
      "metadata": {
        "id": "Z5ZqlUAPrw8y",
        "colab": {
          "base_uri": "https://localhost:8080/",
          "height": 1000
        },
        "outputId": "0c46687b-d20c-4efc-b432-a21adda27283"
      },
      "source": [
        "for rect in digit_rectangles:\n",
        "  x,y,w,h = rect\n",
        "  print(rect)\n",
        "  temp = rgb2gray(temp)\n",
        "  cropped = temp[y:(y+h), x:(x+w)]\n",
        "  cropped = pad(cropped, ((30,30),(70,70)), 'edge')\n",
        "  image_resized = resize(cropped, (28,28), anti_aliasing=True)\n",
        "  image_resized = rgb2gray(image_resized)\n",
        "  input_img =torch.tensor(image_resized).float()\n",
        "  input_img = input_img.unsqueeze(0)\n",
        "\n",
        "  img = input_img.view(1, 784)\n",
        "  with torch.no_grad():\n",
        "      logps = model(img)\n",
        "\n",
        "  ps = torch.exp(logps)\n",
        "  probab = list(ps.numpy()[0])\n",
        "  print(\"Predicted Digit =\", probab.index(max(probab)))\n",
        "  view_classify(img.view(1, 28, 28), ps)"
      ],
      "execution_count": null,
      "outputs": [
        {
          "output_type": "stream",
          "text": [
            "(218, 25, 134, 114)\n",
            "Predicted Digit = 5\n",
            "(68, 19, 126, 135)\n",
            "Predicted Digit = 4\n",
            "(396, 14, 72, 145)\n",
            "Predicted Digit = 7\n"
          ],
          "name": "stdout"
        },
        {
          "output_type": "display_data",
          "data": {
            "image/png": "[encoded data removed]",
            "text/plain": [
              "<Figure size 432x648 with 2 Axes>"
            ]
          },
          "metadata": {
            "tags": []
          }
        },
        {
          "output_type": "display_data",
          "data": {
            "image/png": "[encoded data removed]",
            "text/plain": [
              "<Figure size 432x648 with 2 Axes>"
            ]
          },
          "metadata": {
            "tags": []
          }
        },
        {
          "output_type": "display_data",
          "data": {
            "image/png": "[encoded data removed]",
            "text/plain": [
              "<Figure size 432x648 with 2 Axes>"
            ]
          },
          "metadata": {
            "tags": []
          }
        }
      ]
    }
  ]
}